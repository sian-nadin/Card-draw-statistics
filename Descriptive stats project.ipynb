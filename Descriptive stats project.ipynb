{
 "cells": [
  {
   "cell_type": "code",
   "execution_count": 3,
   "metadata": {},
   "outputs": [
    {
     "name": "stdout",
     "output_type": "stream",
     "text": [
      "Collecting plotly\n",
      "  Downloading plotly-2.0.15.tar.gz (1.0MB)\n",
      "\u001b[K    100% |████████████████████████████████| 1.0MB 439kB/s ta 0:00:01\n",
      "\u001b[?25hRequirement already satisfied: decorator>=4.0.6 in /Users/Sian/anaconda/lib/python2.7/site-packages (from plotly)\n",
      "Requirement already satisfied: nbformat>=4.2 in /Users/Sian/anaconda/lib/python2.7/site-packages (from plotly)\n",
      "Requirement already satisfied: pytz in /Users/Sian/anaconda/lib/python2.7/site-packages (from plotly)\n",
      "Requirement already satisfied: requests in /Users/Sian/anaconda/lib/python2.7/site-packages (from plotly)\n",
      "Requirement already satisfied: six in /Users/Sian/anaconda/lib/python2.7/site-packages (from plotly)\n",
      "Building wheels for collected packages: plotly\n",
      "  Running setup.py bdist_wheel for plotly ... \u001b[?25ldone\n",
      "\u001b[?25h  Stored in directory: /Users/Sian/Library/Caches/pip/wheels/c9/c4/00/a80b040dd8c9301d29f7153881c96edf1cd8561977ec440941\n",
      "Successfully built plotly\n",
      "Installing collected packages: plotly\n",
      "Successfully installed plotly-2.0.15\n"
     ]
    }
   ],
   "source": [
    "!pip install plotly "
   ]
  },
  {
   "cell_type": "markdown",
   "metadata": {},
   "source": [
    "# Statistics on card draws for a 52 deck of cards\n",
    "\n",
    "For the purposes of this task, assign each card a value: The Ace takes a value of 1, numbered cards take the value printed on the card, and the Jack, Queen, and King each take a value of 10.\n",
    "\n",
    "Histogram representing the relative frequencies of the card values from a single draw: \n",
    "<img src=\"histogram-of-single-draw-values.png\">\n",
    "\n",
    "**Mean:** 6.54 \n",
    "\n",
    "**Median:** 7 \n",
    "\n",
    "**Standard deviation:** 3.15 \n",
    "\n"
   ]
  },
  {
   "cell_type": "markdown",
   "metadata": {},
   "source": [
    "#### Next we will look at the statistics for the sum of scores when making three card draws. \n",
    "\n",
    "In each trial, cards will be drawn without replacement, meaning that in a single set of three, each card can appear at most once. After each trial, the cards that were drawn are shuffled back in the deck so that they could be drawn again in the following trial. This will be repeated 30 time.\n",
    "\n"
   ]
  },
  {
   "cell_type": "code",
   "execution_count": 11,
   "metadata": {},
   "outputs": [
    {
     "data": {
      "image/png": "[encoded data removed]",
      "text/plain": [
       "<matplotlib.figure.Figure at 0x1175b5f90>"
      ]
     },
     "metadata": {},
     "output_type": "display_data"
    },
    {
     "name": "stdout",
     "output_type": "stream",
     "text": [
      "The cards drawn were:  ['2h 3d Jd', '3s Ad Jh', '9h 6c 2c', '7s Kh As', 'Ah 4s 6d', 'Jd 8s Kd', '4c 4d 7d', '8c Jh 4h', 'Jd Jc 3h', '7d 8h 4s', '5c 10d Qs', 'Kd 8c 4d', '4d 9d Ac', '7s 3c Ad', '6s Jd 7s', '2d 7d Kc', '3h Jd 2h', '6s As 2d', 'Jc 6h 3h', '3h 7c 9h', '9d 4s 5s', '9d 5h 2s', 'Ac Ad 6s', 'Qs 2s 7h', 'Qh 4s 4c', 'Kd 9d 2c', '4h 10h 8s', 'Kh Jd 5h', '8s Jc As', '8c 6c Qc']\n",
      "\n",
      "The sum of the 30 draws are:  [15, 14, 17, 18, 11, 28, 15, 22, 23, 19, 25, 22, 14, 11, 23, 19, 15, 9, 19, 19, 18, 16, 8, 19, 18, 21, 22, 25, 19, 24]\n",
      "\n",
      "Mean is 18 \n",
      "\n",
      "Median is 19.00\n",
      "\n",
      "ModeResult(mode=array([19]), count=array([6]))\n",
      "\n",
      "Standard deviation is 4.79 \n",
      "\n",
      "Variance is 22.93 \n"
     ]
    }
   ],
   "source": [
    "%run Turn_file_into_list.py\n"
   ]
  },
  {
   "cell_type": "markdown",
   "metadata": {},
   "source": [
    "#### Compare the shape of the sampling distribution to that of the original distribution. \n",
    "**How are they different?**\n",
    "\n",
    "The first graph is mostly flat until the value of 10 which is the predominant value that can be drawn. This is to be expected as it is possible to get a value of 10 from: The card \"10\", a jack, a King and a Queen from all four suits.\n",
    "\n",
    "The second graph is close to a normal distribution. If the sampling size were increased it would conform closer to a normal distribution. This shape is expected from the **central limit theorem** which states that tha distribution of sample means is approximately normal. A normal distribution characteristically has a mean = mode = median which holds true for this case.\n",
    "\n",
    "**Why are they different?**\n",
    "\n",
    "The first graph shows the distribution of values in the **population** whereas thesecond graph shows the distribution of values for a **sample** of size 3. \n"
   ]
  },
  {
   "cell_type": "markdown",
   "metadata": {},
   "source": [
    "#### Estimates about values you would get on future draws\n",
    "\n",
    "Range will you expect approximately 90% of your draw values to fall\n",
    "90% of all draw sums should fall between 10 and 26\n",
    "\n",
    "The approximate probability that you will get a draw value of at least 20\n",
    "Draws of at least 20 should occur with probability approximately 0.4"
   ]
  },
  {
   "cell_type": "code",
   "execution_count": null,
   "metadata": {
    "collapsed": true
   },
   "outputs": [],
   "source": []
  }
 ],
 "metadata": {
  "kernelspec": {
   "display_name": "Python [default]",
   "language": "python",
   "name": "python2"
  },
  "language_info": {
   "codemirror_mode": {
    "name": "ipython",
    "version": 2
   },
   "file_extension": ".py",
   "mimetype": "text/x-python",
   "name": "python",
   "nbconvert_exporter": "python",
   "pygments_lexer": "ipython2",
   "version": "2.7.13"
  }
 },
 "nbformat": 4,
 "nbformat_minor": 2
}
