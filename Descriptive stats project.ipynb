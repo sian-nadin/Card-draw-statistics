{
 "cells": [
  {
   "cell_type": "markdown",
   "metadata": {},
   "source": [
    "# Statistics on card draws for a 52 deck of cards\n",
    "\n",
    "For the purposes of this task, assign each card a value: The Ace takes a value of 1, numbered cards take the value printed on the card, and the Jack, Queen, and King each take a value of 10.\n",
    "\n",
    "The file '30_card_draws' includes a list of 30 random draws of three cards from a deck of 52 cards."
   ]
  },
  {
   "cell_type": "code",
   "execution_count": 9,
   "metadata": {
    "collapsed": true
   },
   "outputs": [],
   "source": [
    "import matplotlib.pyplot as plt\n",
    "import numpy as np\n",
    "from scipy.stats import mode\n",
    "from array import array"
   ]
  },
  {
   "cell_type": "markdown",
   "metadata": {},
   "source": [
    "### First, create a histogram depicting the relative frequencies of the card values"
   ]
  },
  {
   "cell_type": "code",
   "execution_count": 16,
   "metadata": {
    "collapsed": false
   },
   "outputs": [
    {
     "data": {
      "image/png": "[encoded data removed]",
      "text/plain": [
       "<matplotlib.figure.Figure at 0x10fc1b490>"
      ]
     },
     "metadata": {},
     "output_type": "display_data"
    },
    {
     "name": "stdout",
     "output_type": "stream",
     "text": [
      "\n",
      "Mean is 6 \n",
      "\n",
      "Median is 6.50\n",
      "\n",
      "\n",
      "Standard deviation is 3.36 \n"
     ]
    }
   ],
   "source": [
    "card_values = np.array([1,1,1,1,1,1,1,1,2,2,2,2,3,3,3,3,4,4,4,4,5,5,5,5,6,6,6,6,7,7,7,7,8,8,8,8,9,9,9,9,10,10,10,10,10,10,10,10,10,10,10,10,10,10,10,10])\n",
    "\n",
    "plt.hist(card_values)\n",
    "plt.show()\n",
    "\n",
    "print \"\\nMean is %i \" % np.mean(card_values)\n",
    "print \"\\nMedian is %.2f\\n\" % np.median(card_values)\n",
    "print \"\\nStandard deviation is %.2f \" % np.std(card_values)"
   ]
  },
  {
   "cell_type": "markdown",
   "metadata": {},
   "source": [
    "### We will look at the statistics for the sum of scores when making three card draws. \n",
    "\n",
    "In each trial, cards will be drawn without replacement, meaning that in a single set of three, each card can appear at most once. After each trial, the cards that were drawn are shuffled back in the deck so that they could be drawn again in the following trial. This will be repeated 30 time.\n",
    "\n"
   ]
  },
  {
   "cell_type": "code",
   "execution_count": 2,
   "metadata": {
    "collapsed": true
   },
   "outputs": [],
   "source": [
    "#Read in file and create a list where each element is a set of 3 cards drawn\n",
    "cards_drawn = []\n",
    "with open('30_card_draws') as file:\n",
    "    cards_drawn = [cards_drawn.strip() for cards_drawn in file]\n",
    "\n",
    "#Get each card as an individual element\n",
    "cards_list = []\n",
    "for card_set in cards_drawn:\n",
    "    cards_list.extend(card_set.split())\n",
    "    \n",
    "#Remove the suits to leave just the card values\n",
    "cards_list = [ card[:-1] for card in cards_list]\n",
    "\n",
    "#Change King,Queen and Jack cards to 10 and Ace cards to 1\n",
    "for card in xrange(len(cards_list)):\n",
    "    if cards_list[card] ==\"Q\" or cards_list[card]==\"K\" or cards_list[card]==\"J\":\n",
    "        cards_list[card] = \"10\"\n",
    "    elif cards_list[card] == \"A\":\n",
    "        cards_list[card] = \"1\"\n",
    "\n",
    "#Change to a list of integers\n",
    "cards_list = list(map(int,cards_list))\n",
    "\n",
    "#Get Nested list of each draw\n",
    "list_of_draws = [cards_list[i:i+3] for i in range(0, len(cards_list), 3)]\n",
    "\n",
    "#List of sum for each 3 card draw\n",
    "sum_of_draw = []\n",
    "for draw in list_of_draws:\n",
    "    for value in draw:\n",
    "        summed_value = sum(int(value) for value in draw)\n",
    "    sum_of_draw.append(summed_value)"
   ]
  },
  {
   "cell_type": "code",
   "execution_count": 3,
   "metadata": {
    "collapsed": true
   },
   "outputs": [],
   "source": [
    "#CALCULATE CENTRAL TENDENCIES - MEAN & MODE:\n",
    "#Mean sum of 3 card draws\n",
    "mean = (sum(int(i) for i in sum_of_draw))/30\n",
    "#For median arrange sum_of_draws from smallest to greatest values\n",
    "sorted_sum_of_draws = sorted(sum_of_draw)\n",
    "#Since theres 30 values in order to get median get the mean of 15th & 16th numbers in list\n",
    "median = (float(sorted_sum_of_draws[14]) + sorted_sum_of_draws[15])/2\n",
    "#mode\n",
    "mode = mode(sum_of_draw, axis=None)"
   ]
  },
  {
   "cell_type": "code",
   "execution_count": 4,
   "metadata": {
    "collapsed": true
   },
   "outputs": [],
   "source": [
    "#CALCULATE MEASURES OF VARIABILTY - STANDARD DEV & VARIANCE\n",
    "#standard deviation\n",
    "numpy_array_of_draws = np.array(sum_of_draw)\n",
    "standard_dev = np.std(numpy_array_of_draws)\n",
    "#variance\n",
    "variance = np.var(numpy_array_of_draws)"
   ]
  },
  {
   "cell_type": "code",
   "execution_count": 5,
   "metadata": {
    "collapsed": false
   },
   "outputs": [
    {
     "data": {
      "image/png": "[encoded data removed]",
      "text/plain": [
       "<matplotlib.figure.Figure at 0x10cc3e210>"
      ]
     },
     "metadata": {},
     "output_type": "display_data"
    }
   ],
   "source": [
    "#Draw histogram of the card draws\n",
    "plt.hist(numpy_array_of_draws)\n",
    "plt.title(\"Sum of values for three cards drawn\")\n",
    "plt.ylabel(\"Frequency\")\n",
    "plt.xlabel(\"Sum of values for 3 cards\")\n",
    "plt.show()"
   ]
  },
  {
   "cell_type": "code",
   "execution_count": 6,
   "metadata": {
    "collapsed": false
   },
   "outputs": [
    {
     "name": "stdout",
     "output_type": "stream",
     "text": [
      "The cards drawn were:  ['2h 3d Jd', '3s Ad Jh', '9h 6c 2c', '7s Kh As', 'Ah 4s 6d', 'Jd 8s Kd', '4c 4d 7d', '8c Jh 4h', 'Jd Jc 3h', '7d 8h 4s', '5c 10d Qs', 'Kd 8c 4d', '4d 9d Ac', '7s 3c Ad', '6s Jd 7s', '2d 7d Kc', '3h Jd 2h', '6s As 2d', 'Jc 6h 3h', '3h 7c 9h', '9d 4s 5s', '9d 5h 2s', 'Ac Ad 6s', 'Qs 2s 7h', 'Qh 4s 4c', 'Kd 9d 2c', '4h 10h 8s', 'Kh Jd 5h', '8s Jc As', '8c 6c Qc']\n",
      "\n",
      "The sum of the 30 draws are:  [15, 14, 17, 18, 11, 28, 15, 22, 23, 19, 25, 22, 14, 11, 23, 19, 15, 9, 19, 19, 18, 16, 8, 19, 18, 21, 22, 25, 19, 24]\n",
      "\n",
      "Mean is 18 \n",
      "\n",
      "Median is 19.00\n",
      "\n",
      "ModeResult(mode=array([19]), count=array([6]))\n",
      "\n",
      "Standard deviation is 4.79 \n",
      "\n",
      "Variance is 22.93 \n"
     ]
    }
   ],
   "source": [
    "print \"The cards drawn were: \", cards_drawn\n",
    "print \"\\nThe sum of the 30 draws are: \", sum_of_draw\n",
    "print \"\\nMean is %i \" % mean\n",
    "print \"\\nMedian is %.2f\\n\" % median\n",
    "print mode\n",
    "print \"\\nStandard deviation is %.2f \" % standard_dev\n",
    "print \"\\nVariance is %.2f \" % variance"
   ]
  },
  {
   "cell_type": "markdown",
   "metadata": {},
   "source": [
    "### Compare the shape of the sampling distribution to that of the original distribution. \n",
    "**How are they different?**\n",
    "\n",
    "The first graph is mostly flat until the value of 10 which is the predominant value that can be drawn. This is to be expected as it is possible to get a value of 10 from: The card \"10\", a jack, a King and a Queen from all four suits.\n",
    "\n",
    "The second graph is close to a normal distribution. If the sampling size were increased it would conform closer to a normal distribution. This shape is expected from the **central limit theorem** which states that tha distribution of sample means is approximately normal. A normal distribution characteristically has a mean = mode = median which holds true for this case.\n",
    "\n",
    "**Why are they different?**\n",
    "\n",
    "The first graph shows the distribution of values in the **population** whereas thesecond graph shows the distribution of values for a **sample** of size 3. \n"
   ]
  },
  {
   "cell_type": "markdown",
   "metadata": {},
   "source": [
    "### Estimates about values you would get on future draws\n",
    "\n",
    "#### Q: What range you would expect approximately 90% of your draw values to fall?\n",
    "90% of all draw sums should fall between 10 and 26\n",
    "\n",
    "#### Q: What is the approximate probability that you will get a draw value of at least 20?\n",
    "Draws of at least 20 should occur with probability approximately 0.4"
   ]
  },
  {
   "cell_type": "code",
   "execution_count": null,
   "metadata": {
    "collapsed": true
   },
   "outputs": [],
   "source": []
  }
 ],
 "metadata": {
  "anaconda-cloud": {},
  "kernelspec": {
   "display_name": "Python [default]",
   "language": "python",
   "name": "python2"
  },
  "language_info": {
   "codemirror_mode": {
    "name": "ipython",
    "version": 2
   },
   "file_extension": ".py",
   "mimetype": "text/x-python",
   "name": "python",
   "nbconvert_exporter": "python",
   "pygments_lexer": "ipython2",
   "version": "2.7.12"
  }
 },
 "nbformat": 4,
 "nbformat_minor": 2
}
